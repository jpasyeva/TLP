{
 "cells": [
  {
   "cell_type": "code",
   "execution_count": 1,
   "metadata": {},
   "outputs": [],
   "source": [
    "# импортируем библиотеку pandas для дальнейшей работы\n",
    "import pandas as pd "
   ]
  },
  {
   "cell_type": "code",
   "execution_count": 2,
   "metadata": {},
   "outputs": [
    {
     "data": {
      "text/html": [
       "<div>\n",
       "<style scoped>\n",
       "    .dataframe tbody tr th:only-of-type {\n",
       "        vertical-align: middle;\n",
       "    }\n",
       "\n",
       "    .dataframe tbody tr th {\n",
       "        vertical-align: top;\n",
       "    }\n",
       "\n",
       "    .dataframe thead th {\n",
       "        text-align: right;\n",
       "    }\n",
       "</style>\n",
       "<table border=\"1\" class=\"dataframe\">\n",
       "  <thead>\n",
       "    <tr style=\"text-align: right;\">\n",
       "      <th></th>\n",
       "      <th>Unnamed: 0</th>\n",
       "      <th>work_year</th>\n",
       "      <th>experience_level</th>\n",
       "      <th>employment_type</th>\n",
       "      <th>job_title</th>\n",
       "      <th>salary</th>\n",
       "      <th>salary_currency</th>\n",
       "      <th>salary_in_usd</th>\n",
       "      <th>employee_residence</th>\n",
       "      <th>remote_ratio</th>\n",
       "      <th>company_location</th>\n",
       "      <th>company_size</th>\n",
       "    </tr>\n",
       "  </thead>\n",
       "  <tbody>\n",
       "    <tr>\n",
       "      <th>0</th>\n",
       "      <td>0</td>\n",
       "      <td>2020</td>\n",
       "      <td>MI</td>\n",
       "      <td>FT</td>\n",
       "      <td>Data Scientist</td>\n",
       "      <td>70000</td>\n",
       "      <td>EUR</td>\n",
       "      <td>79833</td>\n",
       "      <td>DE</td>\n",
       "      <td>0</td>\n",
       "      <td>DE</td>\n",
       "      <td>L</td>\n",
       "    </tr>\n",
       "    <tr>\n",
       "      <th>1</th>\n",
       "      <td>1</td>\n",
       "      <td>2020</td>\n",
       "      <td>SE</td>\n",
       "      <td>FT</td>\n",
       "      <td>Machine Learning Scientist</td>\n",
       "      <td>260000</td>\n",
       "      <td>USD</td>\n",
       "      <td>260000</td>\n",
       "      <td>JP</td>\n",
       "      <td>0</td>\n",
       "      <td>JP</td>\n",
       "      <td>S</td>\n",
       "    </tr>\n",
       "    <tr>\n",
       "      <th>2</th>\n",
       "      <td>2</td>\n",
       "      <td>2020</td>\n",
       "      <td>SE</td>\n",
       "      <td>FT</td>\n",
       "      <td>Big Data Engineer</td>\n",
       "      <td>85000</td>\n",
       "      <td>GBP</td>\n",
       "      <td>109024</td>\n",
       "      <td>GB</td>\n",
       "      <td>50</td>\n",
       "      <td>GB</td>\n",
       "      <td>M</td>\n",
       "    </tr>\n",
       "    <tr>\n",
       "      <th>3</th>\n",
       "      <td>3</td>\n",
       "      <td>2020</td>\n",
       "      <td>MI</td>\n",
       "      <td>FT</td>\n",
       "      <td>Product Data Analyst</td>\n",
       "      <td>20000</td>\n",
       "      <td>USD</td>\n",
       "      <td>20000</td>\n",
       "      <td>HN</td>\n",
       "      <td>0</td>\n",
       "      <td>HN</td>\n",
       "      <td>S</td>\n",
       "    </tr>\n",
       "    <tr>\n",
       "      <th>4</th>\n",
       "      <td>4</td>\n",
       "      <td>2020</td>\n",
       "      <td>SE</td>\n",
       "      <td>FT</td>\n",
       "      <td>Machine Learning Engineer</td>\n",
       "      <td>150000</td>\n",
       "      <td>USD</td>\n",
       "      <td>150000</td>\n",
       "      <td>US</td>\n",
       "      <td>50</td>\n",
       "      <td>US</td>\n",
       "      <td>L</td>\n",
       "    </tr>\n",
       "    <tr>\n",
       "      <th>5</th>\n",
       "      <td>5</td>\n",
       "      <td>2020</td>\n",
       "      <td>EN</td>\n",
       "      <td>FT</td>\n",
       "      <td>Data Analyst</td>\n",
       "      <td>72000</td>\n",
       "      <td>USD</td>\n",
       "      <td>72000</td>\n",
       "      <td>US</td>\n",
       "      <td>100</td>\n",
       "      <td>US</td>\n",
       "      <td>L</td>\n",
       "    </tr>\n",
       "    <tr>\n",
       "      <th>6</th>\n",
       "      <td>6</td>\n",
       "      <td>2020</td>\n",
       "      <td>SE</td>\n",
       "      <td>FT</td>\n",
       "      <td>Lead Data Scientist</td>\n",
       "      <td>190000</td>\n",
       "      <td>USD</td>\n",
       "      <td>190000</td>\n",
       "      <td>US</td>\n",
       "      <td>100</td>\n",
       "      <td>US</td>\n",
       "      <td>S</td>\n",
       "    </tr>\n",
       "    <tr>\n",
       "      <th>7</th>\n",
       "      <td>7</td>\n",
       "      <td>2020</td>\n",
       "      <td>MI</td>\n",
       "      <td>FT</td>\n",
       "      <td>Data Scientist</td>\n",
       "      <td>11000000</td>\n",
       "      <td>HUF</td>\n",
       "      <td>35735</td>\n",
       "      <td>HU</td>\n",
       "      <td>50</td>\n",
       "      <td>HU</td>\n",
       "      <td>L</td>\n",
       "    </tr>\n",
       "    <tr>\n",
       "      <th>8</th>\n",
       "      <td>8</td>\n",
       "      <td>2020</td>\n",
       "      <td>MI</td>\n",
       "      <td>FT</td>\n",
       "      <td>Business Data Analyst</td>\n",
       "      <td>135000</td>\n",
       "      <td>USD</td>\n",
       "      <td>135000</td>\n",
       "      <td>US</td>\n",
       "      <td>100</td>\n",
       "      <td>US</td>\n",
       "      <td>L</td>\n",
       "    </tr>\n",
       "    <tr>\n",
       "      <th>9</th>\n",
       "      <td>9</td>\n",
       "      <td>2020</td>\n",
       "      <td>SE</td>\n",
       "      <td>FT</td>\n",
       "      <td>Lead Data Engineer</td>\n",
       "      <td>125000</td>\n",
       "      <td>USD</td>\n",
       "      <td>125000</td>\n",
       "      <td>NZ</td>\n",
       "      <td>50</td>\n",
       "      <td>NZ</td>\n",
       "      <td>S</td>\n",
       "    </tr>\n",
       "  </tbody>\n",
       "</table>\n",
       "</div>"
      ],
      "text/plain": [
       "   Unnamed: 0  work_year experience_level employment_type  \\\n",
       "0           0       2020               MI              FT   \n",
       "1           1       2020               SE              FT   \n",
       "2           2       2020               SE              FT   \n",
       "3           3       2020               MI              FT   \n",
       "4           4       2020               SE              FT   \n",
       "5           5       2020               EN              FT   \n",
       "6           6       2020               SE              FT   \n",
       "7           7       2020               MI              FT   \n",
       "8           8       2020               MI              FT   \n",
       "9           9       2020               SE              FT   \n",
       "\n",
       "                    job_title    salary salary_currency  salary_in_usd  \\\n",
       "0              Data Scientist     70000             EUR          79833   \n",
       "1  Machine Learning Scientist    260000             USD         260000   \n",
       "2           Big Data Engineer     85000             GBP         109024   \n",
       "3        Product Data Analyst     20000             USD          20000   \n",
       "4   Machine Learning Engineer    150000             USD         150000   \n",
       "5                Data Analyst     72000             USD          72000   \n",
       "6         Lead Data Scientist    190000             USD         190000   \n",
       "7              Data Scientist  11000000             HUF          35735   \n",
       "8       Business Data Analyst    135000             USD         135000   \n",
       "9          Lead Data Engineer    125000             USD         125000   \n",
       "\n",
       "  employee_residence  remote_ratio company_location company_size  \n",
       "0                 DE             0               DE            L  \n",
       "1                 JP             0               JP            S  \n",
       "2                 GB            50               GB            M  \n",
       "3                 HN             0               HN            S  \n",
       "4                 US            50               US            L  \n",
       "5                 US           100               US            L  \n",
       "6                 US           100               US            S  \n",
       "7                 HU            50               HU            L  \n",
       "8                 US           100               US            L  \n",
       "9                 NZ            50               NZ            S  "
      ]
     },
     "execution_count": 2,
     "metadata": {},
     "output_type": "execute_result"
    }
   ],
   "source": [
    "#читаем данные из датасета\n",
    "data = pd.read_csv('data_job_salaries.csv')\n",
    "\n",
    "#Смотрим информацию про первые 10 строк DataFrame\n",
    "data.head(10)"
   ]
  },
  {
   "cell_type": "code",
   "execution_count": 3,
   "metadata": {},
   "outputs": [],
   "source": [
    "#задание №1 ---Сгруппируйте вакансии по направлениями (DS, DE, Software Engenering, etc.)---\n",
    "data_grouped = data.groupby('job_title')\n",
    "\n",
    "#задание №2 ---Какая средняя и медианная зарплата по группам вакансий?---\n",
    "data_grouped_mean_salary = data_grouped['salary_in_usd'].mean()\n",
    "data_grouped_median_salary = data_grouped['salary_in_usd'].median()"
   ]
  },
  {
   "cell_type": "code",
   "execution_count": 4,
   "metadata": {},
   "outputs": [
    {
     "data": {
      "text/plain": [
       "job_title\n",
       "3D Computer Vision Researcher           5409.0\n",
       "AI Scientist                           45896.0\n",
       "Analytics Engineer                    179850.0\n",
       "Applied Data Scientist                157000.0\n",
       "Applied Machine Learning Scientist     56700.0\n",
       "BI Data Analyst                        76500.0\n",
       "Big Data Architect                     99703.0\n",
       "Big Data Engineer                      41305.5\n",
       "Business Data Analyst                  70912.0\n",
       "Cloud Data Engineer                   124647.0\n",
       "Computer Vision Engineer               26304.5\n",
       "Computer Vision Software Engineer      95746.0\n",
       "Data Analyst                           90320.0\n",
       "Data Analytics Engineer                64598.5\n",
       "Data Analytics Lead                   405000.0\n",
       "Name: salary_in_usd, dtype: float64"
      ]
     },
     "execution_count": 4,
     "metadata": {},
     "output_type": "execute_result"
    }
   ],
   "source": [
    "data_grouped_median_salary.head(15)"
   ]
  },
  {
   "cell_type": "code",
   "execution_count": 5,
   "metadata": {},
   "outputs": [
    {
     "data": {
      "text/plain": [
       "job_title\n",
       "3D Computer Vision Researcher           5409.0\n",
       "AI Scientist                           45896.0\n",
       "Analytics Engineer                    179850.0\n",
       "Applied Data Scientist                157000.0\n",
       "Applied Machine Learning Scientist     56700.0\n",
       "BI Data Analyst                        76500.0\n",
       "Big Data Architect                     99703.0\n",
       "Big Data Engineer                      41305.5\n",
       "Business Data Analyst                  70912.0\n",
       "Cloud Data Engineer                   124647.0\n",
       "Computer Vision Engineer               26304.5\n",
       "Computer Vision Software Engineer      95746.0\n",
       "Data Analyst                           90320.0\n",
       "Data Analytics Engineer                64598.5\n",
       "Data Analytics Lead                   405000.0\n",
       "Name: salary_in_usd, dtype: float64"
      ]
     },
     "execution_count": 5,
     "metadata": {},
     "output_type": "execute_result"
    }
   ],
   "source": [
    "# выводим первые 15 данных датасета по median \n",
    "data_grouped_median_salary.head(15)"
   ]
  },
  {
   "cell_type": "code",
   "execution_count": 6,
   "metadata": {},
   "outputs": [],
   "source": [
    "#задание №3 ---Какая средняя и медианная зарплата по каждому региону?---\n",
    "data_grouped_region = data.groupby('company_location')\n",
    "data_grouped_mean_region = data_grouped_region['salary_in_usd'].mean()\n",
    "data_grouped_median_region = data_grouped_region['salary_in_usd'].median()"
   ]
  },
  {
   "cell_type": "code",
   "execution_count": 7,
   "metadata": {},
   "outputs": [
    {
     "data": {
      "text/plain": [
       "company_location\n",
       "AE    100000.000000\n",
       "AS     18053.000000\n",
       "AT     72920.750000\n",
       "AU    108042.666667\n",
       "BE     85699.000000\n",
       "BR     18602.666667\n",
       "CA     99823.733333\n",
       "CH     64114.000000\n",
       "CL     40038.000000\n",
       "CN     71665.500000\n",
       "CO     21844.000000\n",
       "CZ     50937.000000\n",
       "DE     81887.214286\n",
       "DK     54386.333333\n",
       "DZ    100000.000000\n",
       "Name: salary_in_usd, dtype: float64"
      ]
     },
     "execution_count": 7,
     "metadata": {},
     "output_type": "execute_result"
    }
   ],
   "source": [
    "data_grouped_mean_region.head(15)   "
   ]
  },
  {
   "cell_type": "code",
   "execution_count": 8,
   "metadata": {},
   "outputs": [
    {
     "data": {
      "text/plain": [
       "company_location\n",
       "AE    115000.0\n",
       "AS     18053.0\n",
       "AT     69489.5\n",
       "AU     87425.0\n",
       "BE     85699.0\n",
       "BR     18907.0\n",
       "CA     81895.5\n",
       "CH     64114.0\n",
       "CL     40038.0\n",
       "CN     71665.5\n",
       "CO     21844.0\n",
       "CZ     50937.0\n",
       "DE     78015.0\n",
       "DK     45896.0\n",
       "DZ    100000.0\n",
       "Name: salary_in_usd, dtype: float64"
      ]
     },
     "execution_count": 8,
     "metadata": {},
     "output_type": "execute_result"
    }
   ],
   "source": [
    "data_grouped_median_region.head(15)"
   ]
  },
  {
   "cell_type": "code",
   "execution_count": 9,
   "metadata": {},
   "outputs": [],
   "source": [
    "#задание №4 ---Какая самая высокооплачиваемая из групп вакансий, исходя из их средних зарплат?---\n",
    "max_paid_job = data_grouped_mean_salary.idxmax()\n",
    "\n",
    "max_mean_salary = data_grouped_mean_salary.max()"
   ]
  },
  {
   "cell_type": "code",
   "execution_count": 10,
   "metadata": {},
   "outputs": [
    {
     "name": "stdout",
     "output_type": "stream",
     "text": [
      "Data Analytics Lead\n",
      "405000.0\n"
     ]
    }
   ],
   "source": [
    "print(max_paid_job) \n",
    "\n",
    "print(max_mean_salary)\n"
   ]
  },
  {
   "cell_type": "code",
   "execution_count": 11,
   "metadata": {},
   "outputs": [
    {
     "data": {
      "text/html": [
       "<div>\n",
       "<style scoped>\n",
       "    .dataframe tbody tr th:only-of-type {\n",
       "        vertical-align: middle;\n",
       "    }\n",
       "\n",
       "    .dataframe tbody tr th {\n",
       "        vertical-align: top;\n",
       "    }\n",
       "\n",
       "    .dataframe thead th {\n",
       "        text-align: right;\n",
       "    }\n",
       "</style>\n",
       "<table border=\"1\" class=\"dataframe\">\n",
       "  <thead>\n",
       "    <tr style=\"text-align: right;\">\n",
       "      <th></th>\n",
       "      <th>vac_count_by_reg</th>\n",
       "      <th>percent_vac_by_reg</th>\n",
       "    </tr>\n",
       "  </thead>\n",
       "  <tbody>\n",
       "    <tr>\n",
       "      <th>US</th>\n",
       "      <td>355</td>\n",
       "      <td>58.484349</td>\n",
       "    </tr>\n",
       "    <tr>\n",
       "      <th>GB</th>\n",
       "      <td>47</td>\n",
       "      <td>7.742998</td>\n",
       "    </tr>\n",
       "    <tr>\n",
       "      <th>CA</th>\n",
       "      <td>30</td>\n",
       "      <td>4.942339</td>\n",
       "    </tr>\n",
       "    <tr>\n",
       "      <th>DE</th>\n",
       "      <td>28</td>\n",
       "      <td>4.612850</td>\n",
       "    </tr>\n",
       "    <tr>\n",
       "      <th>IN</th>\n",
       "      <td>24</td>\n",
       "      <td>3.953871</td>\n",
       "    </tr>\n",
       "    <tr>\n",
       "      <th>FR</th>\n",
       "      <td>15</td>\n",
       "      <td>2.471170</td>\n",
       "    </tr>\n",
       "    <tr>\n",
       "      <th>ES</th>\n",
       "      <td>14</td>\n",
       "      <td>2.306425</td>\n",
       "    </tr>\n",
       "    <tr>\n",
       "      <th>GR</th>\n",
       "      <td>11</td>\n",
       "      <td>1.812191</td>\n",
       "    </tr>\n",
       "    <tr>\n",
       "      <th>JP</th>\n",
       "      <td>6</td>\n",
       "      <td>0.988468</td>\n",
       "    </tr>\n",
       "    <tr>\n",
       "      <th>NL</th>\n",
       "      <td>4</td>\n",
       "      <td>0.658979</td>\n",
       "    </tr>\n",
       "  </tbody>\n",
       "</table>\n",
       "</div>"
      ],
      "text/plain": [
       "    vac_count_by_reg  percent_vac_by_reg\n",
       "US               355           58.484349\n",
       "GB                47            7.742998\n",
       "CA                30            4.942339\n",
       "DE                28            4.612850\n",
       "IN                24            3.953871\n",
       "FR                15            2.471170\n",
       "ES                14            2.306425\n",
       "GR                11            1.812191\n",
       "JP                 6            0.988468\n",
       "NL                 4            0.658979"
      ]
     },
     "execution_count": 11,
     "metadata": {},
     "output_type": "execute_result"
    }
   ],
   "source": [
    "#задание №5 ---Какое процентное соотношение каждого региона по вакансиям от всех вакансий?---\n",
    "vac_count_by_reg = data['company_location'].value_counts()\n",
    "\n",
    "#считаем процент\n",
    "percent_vac_by_reg = (vac_count_by_reg/len(data))*100\n",
    "\n",
    "#добавляем в DataFrame столбцы с новыми названиями и передаем туда значения\n",
    "data_perc_reg = pd.DataFrame({'vac_count_by_reg': vac_count_by_reg, 'percent_vac_by_reg': percent_vac_by_reg})\n",
    "\n",
    "data_perc_reg.head(10)"
   ]
  },
  {
   "cell_type": "code",
   "execution_count": 12,
   "metadata": {},
   "outputs": [
    {
     "data": {
      "text/plain": [
       "0.1509237256253246"
      ]
     },
     "execution_count": 12,
     "metadata": {},
     "output_type": "execute_result"
    }
   ],
   "source": [
    "#задание №6 ---Какая корреляция уровня опыта от зарплаты? (Преобразовать уровень опыта в числовой тип, если возможно. \n",
    "#например: 'MI': 0, 'SE': 1, 'EN': 2, 'EX': 3)---\n",
    "\n",
    "lvl_numbere = {'MI': 0, 'SE': 1, 'EN': 2, 'EX': 3}\n",
    "\n",
    "data['lvl_numbere'] = data['experience_level'].map(lvl_numbere)\n",
    "\n",
    "corr = data['lvl_numbere'].corr(data['salary_in_usd'])\n",
    "\n",
    "corr"
   ]
  },
  {
   "cell_type": "code",
   "execution_count": 13,
   "metadata": {},
   "outputs": [
    {
     "data": {
      "text/plain": [
       "50"
      ]
     },
     "execution_count": 13,
     "metadata": {},
     "output_type": "execute_result"
    }
   ],
   "source": [
    "#задание №7 ---Сколько должностей в наборе данных?---\n",
    "cnt_job_title = data['job_title'].nunique()\n",
    "\n",
    "cnt_job_title"
   ]
  },
  {
   "cell_type": "code",
   "execution_count": 14,
   "metadata": {},
   "outputs": [
    {
     "data": {
      "text/plain": [
       "Data Scientist                143\n",
       "Data Engineer                 132\n",
       "Data Analyst                   97\n",
       "Machine Learning Engineer      41\n",
       "Research Scientist             16\n",
       "Data Science Manager           12\n",
       "Data Architect                 11\n",
       "Big Data Engineer               8\n",
       "Machine Learning Scientist      8\n",
       "Principal Data Scientist        7\n",
       "Name: job_title, dtype: int64"
      ]
     },
     "execution_count": 14,
     "metadata": {},
     "output_type": "execute_result"
    }
   ],
   "source": [
    "#задание №8 ---Какие 10 наиболее часто встречающихся должностей?---\n",
    "top_position_name = data['job_title'].value_counts()\n",
    "\n",
    "top_position_name.head(10)"
   ]
  }
 ],
 "metadata": {
  "kernelspec": {
   "display_name": "base",
   "language": "python",
   "name": "python3"
  },
  "language_info": {
   "codemirror_mode": {
    "name": "ipython",
    "version": 3
   },
   "file_extension": ".py",
   "mimetype": "text/x-python",
   "name": "python",
   "nbconvert_exporter": "python",
   "pygments_lexer": "ipython3",
   "version": "3.11.4"
  }
 },
 "nbformat": 4,
 "nbformat_minor": 2
}
